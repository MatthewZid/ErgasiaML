{
 "cells": [
  {
   "source": [
    "import numpy as np\n",
    "import plotly.graph_objects as go\n",
    "import plotly\n",
    "import pandas as pd\n",
    "import plotly.offline as py\n",
    "from scipy.stats import multivariate_normal as g\n",
    "py.init_notebook_mode(connected=True)\n",
    "\n",
    "def plot_data(classes, count):\n",
    "    bar = go.Bar(\n",
    "        x = classes,\n",
    "        y = count\n",
    "    )\n",
    "\n",
    "    layout = dict(\n",
    "        title = \"Barchart with frequencies\",\n",
    "        xaxis = dict(title = \"Classes\"),\n",
    "        xaxis_tickangle = 45\n",
    "    )\n",
    "\n",
    "    fig = go.Figure(data = [bar], layout = layout)\n",
    "    plotly.offline.iplot(fig)\n",
    "\n",
    "# OLD\n",
    "# def separate_classes(csv_obj,classno):\n",
    "#     # Separate features for each class in a dictionary, i.e star type\n",
    "#     classes = {}    #classes contain every feature for each star type\n",
    "\n",
    "#     for i in range(classno):\n",
    "#         classes[\"\".join(str(i))] = []\n",
    "    \n",
    "#     for row in csv_obj:\n",
    "#         featdict = {}\n",
    "#         for feature in row:\n",
    "#             if feature != \"Star type\":\n",
    "#                 featdict[feature] = row[feature]\n",
    "#         classes[row['Star type']].append(featdict)\n",
    "    \n",
    "#     return classes\n",
    "\n",
    "# def frequencies(clss):\n",
    "#     # Find frequencies of feature vectors for each class\n",
    "#     freqs = {}\n",
    "#     for c in classes:\n",
    "#        freqs[c] = len(classes[c])\n",
    "    \n",
    "#     return freqs\n",
    "\n",
    "# def pdf(feature, type):\n",
    "#     # Prepare plots for pdf of each class for selected feature\n",
    "#     plots = []\n",
    "#     color = ['(255, 0, 0','(0, 255, 0','(0, 0, 255','(231, 255, 92','(188, 0, 255','(0, 211, 255']\n",
    "\n",
    "#     for cl in classes:\n",
    "#         featlist = None\n",
    "#         if type == 'int': featlist = [int(x[feature]) for x in classes[cl]]\n",
    "#         elif type == 'float': featlist = [float(x[feature]) for x in classes[cl]]\n",
    "#         else: featlist = [x[feature] for x in classes[cl]]\n",
    "\n",
    "#         x1 = np.array(featlist)\n",
    "#         xspace = np.linspace(x1.min(), x1.max())\n",
    "#         yspace1 = g.pdf(xspace, mean=x1.mean(),cov=x1.std())\n",
    "\n",
    "#         cr = color.pop()\n",
    "#         plots.append(go.Scatter(x=xspace, y=yspace1, name=\"p(x|y=)\".join(cl), marker_color='rgba'+cr+', .9)'))\n",
    "    \n",
    "#     return plots\n",
    "\n",
    "# with open(\"../6_class_csv.csv\",\"r\") as csvf:\n",
    "#     csvreader = csv.DictReader(csvf)    #read csv as a dictionary\n",
    "    \n",
    "#     classes = separate_classes(csvreader,6)\n",
    "#     freqs = frequencies(classes)\n",
    "    \n",
    "#     # Perform GDA\n",
    "#     # plots = pdf('Temperature (K)', 'int')\n",
    "#     # layout = go.Layout(title='Star samples GE for p(x|y)', xaxis=dict(title='x'), yaxis=dict(title='p(x|y)'))\n",
    "#     # fig = go.Figure(data=plots, layout=layout)\n",
    "#     # plotly.offline.iplot(fig)\n",
    "\n",
    "#     x1 = np.array([int(x['Temperature (K)']) for x in classes['0']])\n",
    "#     xspace = np.linspace(x1.min(), x1.max())\n",
    "#     yspace1 = g.pdf(xspace, mean=x1.mean(),cov=x1.std())\n",
    "\n",
    "#     fig = go.Figure(data=[\n",
    "#         go.Scatter(x=xspace, y=yspace1, name=\"p(x|y=)\".join('0'), marker_color='rgba(44, 193, 93, .9)')\n",
    "#     ])\n",
    "\n",
    "#     plotly.offline.iplot(fig)"
   ],
   "cell_type": "code",
   "metadata": {
    "tags": []
   },
   "execution_count": 14,
   "outputs": [
    {
     "output_type": "display_data",
     "data": {
      "text/html": "        <script type=\"text/javascript\">\n        window.PlotlyConfig = {MathJaxConfig: 'local'};\n        if (window.MathJax) {MathJax.Hub.Config({SVG: {font: \"STIX-Web\"}});}\n        if (typeof require !== 'undefined') {\n        require.undef(\"plotly\");\n        requirejs.config({\n            paths: {\n                'plotly': ['https://cdn.plot.ly/plotly-latest.min']\n            }\n        });\n        require(['plotly'], function(Plotly) {\n            window._Plotly = Plotly;\n        });\n        }\n        </script>\n        "
     },
     "metadata": {}
    }
   ]
  },
  {
   "source": [
    "## Preprocess data"
   ],
   "cell_type": "markdown",
   "metadata": {}
  },
  {
   "cell_type": "code",
   "execution_count": 15,
   "metadata": {},
   "outputs": [
    {
     "output_type": "stream",
     "name": "stdout",
     "text": [
      "Size before cleaning: 1794016\n",
      "Classes cleaned\n",
      "Size after cleaning: 1782111\n"
     ]
    }
   ],
   "source": [
    "# read csv into dataframe\n",
    "df = pd.read_csv('../mbti_full_pull.csv')\n",
    "new_class = []\n",
    "new_txt = []\n",
    "classes = ['ISTJ','ISFJ','INFJ','INTJ','ISTP','ISFP','INFP','INTP','ESTP','ESFP','ENFP','ENTP','ESTJ','ESFJ','ENFJ','ENTJ']\n",
    "\n",
    "print(\"Size before cleaning: {:d}\".format(len(df)))\n",
    "\n",
    "# extract only the cleaned classes that consist of specific and unique value\n",
    "for i in range(len(df)):\n",
    "    txt = df.iloc[i]['author_flair_text']\n",
    "    uppert = txt.upper()\n",
    "\n",
    "    count = 0\n",
    "    clss = ''\n",
    "    for cl in classes:\n",
    "        if uppert.find(cl) != -1:\n",
    "            count += 1\n",
    "            clss = cl\n",
    "    if count == 1:\n",
    "        new_class.append(clss)\n",
    "        new_txt.append(df.iloc[i]['body'])\n",
    "\n",
    "mbti = {\n",
    "    'text': new_txt,\n",
    "    'class': new_class\n",
    "}\n",
    "\n",
    "data = pd.DataFrame(mbti)\n",
    "print('Classes cleaned')\n",
    "\n",
    "print(\"Size after cleaning: {:d}\".format(len(data)))"
   ]
  },
  {
   "source": [
    "## Find imbalanced classes"
   ],
   "cell_type": "markdown",
   "metadata": {}
  },
  {
   "source": [
    "data.isnull().sum() # check if null values exist\n",
    "data = data.dropna() # drop null values (55)\n",
    "\n",
    "# observe each class' distribution\n",
    "freqs = data['class'].value_counts().tolist()\n",
    "data_classes = data['class'].value_counts().index.tolist()\n",
    "\n",
    "plot_data(data_classes, freqs)"
   ],
   "cell_type": "code",
   "metadata": {},
   "execution_count": 46,
   "outputs": [
    {
     "output_type": "display_data",
     "data": {
      "application/vnd.plotly.v1+json": {
       "config": {
        "linkText": "Export to plot.ly",
        "plotlyServerURL": "https://plot.ly",
        "showLink": false
       },
       "data": [
        {
         "type": "bar",
         "x": [
          "INTP",
          "INTJ",
          "ENTP",
          "INFJ",
          "INFP",
          "ENFP",
          "ISTP",
          "ESTP",
          "ENTJ",
          "ENFJ",
          "ISTJ",
          "ISFP",
          "ISFJ",
          "ESFP",
          "ESTJ",
          "ESFJ"
         ],
         "y": [
          470243,
          364136,
          221047,
          204977,
          179264,
          97991,
          63828,
          53137,
          50988,
          21251,
          18260,
          11429,
          7804,
          7729,
          7232,
          2740
         ]
        }
       ],
       "layout": {
        "template": {
         "data": {
          "bar": [
           {
            "error_x": {
             "color": "#2a3f5f"
            },
            "error_y": {
             "color": "#2a3f5f"
            },
            "marker": {
             "line": {
              "color": "#E5ECF6",
              "width": 0.5
             }
            },
            "type": "bar"
           }
          ],
          "barpolar": [
           {
            "marker": {
             "line": {
              "color": "#E5ECF6",
              "width": 0.5
             }
            },
            "type": "barpolar"
           }
          ],
          "carpet": [
           {
            "aaxis": {
             "endlinecolor": "#2a3f5f",
             "gridcolor": "white",
             "linecolor": "white",
             "minorgridcolor": "white",
             "startlinecolor": "#2a3f5f"
            },
            "baxis": {
             "endlinecolor": "#2a3f5f",
             "gridcolor": "white",
             "linecolor": "white",
             "minorgridcolor": "white",
             "startlinecolor": "#2a3f5f"
            },
            "type": "carpet"
           }
          ],
          "choropleth": [
           {
            "colorbar": {
             "outlinewidth": 0,
             "ticks": ""
            },
            "type": "choropleth"
           }
          ],
          "contour": [
           {
            "colorbar": {
             "outlinewidth": 0,
             "ticks": ""
            },
            "colorscale": [
             [
              0,
              "#0d0887"
             ],
             [
              0.1111111111111111,
              "#46039f"
             ],
             [
              0.2222222222222222,
              "#7201a8"
             ],
             [
              0.3333333333333333,
              "#9c179e"
             ],
             [
              0.4444444444444444,
              "#bd3786"
             ],
             [
              0.5555555555555556,
              "#d8576b"
             ],
             [
              0.6666666666666666,
              "#ed7953"
             ],
             [
              0.7777777777777778,
              "#fb9f3a"
             ],
             [
              0.8888888888888888,
              "#fdca26"
             ],
             [
              1,
              "#f0f921"
             ]
            ],
            "type": "contour"
           }
          ],
          "contourcarpet": [
           {
            "colorbar": {
             "outlinewidth": 0,
             "ticks": ""
            },
            "type": "contourcarpet"
           }
          ],
          "heatmap": [
           {
            "colorbar": {
             "outlinewidth": 0,
             "ticks": ""
            },
            "colorscale": [
             [
              0,
              "#0d0887"
             ],
             [
              0.1111111111111111,
              "#46039f"
             ],
             [
              0.2222222222222222,
              "#7201a8"
             ],
             [
              0.3333333333333333,
              "#9c179e"
             ],
             [
              0.4444444444444444,
              "#bd3786"
             ],
             [
              0.5555555555555556,
              "#d8576b"
             ],
             [
              0.6666666666666666,
              "#ed7953"
             ],
             [
              0.7777777777777778,
              "#fb9f3a"
             ],
             [
              0.8888888888888888,
              "#fdca26"
             ],
             [
              1,
              "#f0f921"
             ]
            ],
            "type": "heatmap"
           }
          ],
          "heatmapgl": [
           {
            "colorbar": {
             "outlinewidth": 0,
             "ticks": ""
            },
            "colorscale": [
             [
              0,
              "#0d0887"
             ],
             [
              0.1111111111111111,
              "#46039f"
             ],
             [
              0.2222222222222222,
              "#7201a8"
             ],
             [
              0.3333333333333333,
              "#9c179e"
             ],
             [
              0.4444444444444444,
              "#bd3786"
             ],
             [
              0.5555555555555556,
              "#d8576b"
             ],
             [
              0.6666666666666666,
              "#ed7953"
             ],
             [
              0.7777777777777778,
              "#fb9f3a"
             ],
             [
              0.8888888888888888,
              "#fdca26"
             ],
             [
              1,
              "#f0f921"
             ]
            ],
            "type": "heatmapgl"
           }
          ],
          "histogram": [
           {
            "marker": {
             "colorbar": {
              "outlinewidth": 0,
              "ticks": ""
             }
            },
            "type": "histogram"
           }
          ],
          "histogram2d": [
           {
            "colorbar": {
             "outlinewidth": 0,
             "ticks": ""
            },
            "colorscale": [
             [
              0,
              "#0d0887"
             ],
             [
              0.1111111111111111,
              "#46039f"
             ],
             [
              0.2222222222222222,
              "#7201a8"
             ],
             [
              0.3333333333333333,
              "#9c179e"
             ],
             [
              0.4444444444444444,
              "#bd3786"
             ],
             [
              0.5555555555555556,
              "#d8576b"
             ],
             [
              0.6666666666666666,
              "#ed7953"
             ],
             [
              0.7777777777777778,
              "#fb9f3a"
             ],
             [
              0.8888888888888888,
              "#fdca26"
             ],
             [
              1,
              "#f0f921"
             ]
            ],
            "type": "histogram2d"
           }
          ],
          "histogram2dcontour": [
           {
            "colorbar": {
             "outlinewidth": 0,
             "ticks": ""
            },
            "colorscale": [
             [
              0,
              "#0d0887"
             ],
             [
              0.1111111111111111,
              "#46039f"
             ],
             [
              0.2222222222222222,
              "#7201a8"
             ],
             [
              0.3333333333333333,
              "#9c179e"
             ],
             [
              0.4444444444444444,
              "#bd3786"
             ],
             [
              0.5555555555555556,
              "#d8576b"
             ],
             [
              0.6666666666666666,
              "#ed7953"
             ],
             [
              0.7777777777777778,
              "#fb9f3a"
             ],
             [
              0.8888888888888888,
              "#fdca26"
             ],
             [
              1,
              "#f0f921"
             ]
            ],
            "type": "histogram2dcontour"
           }
          ],
          "mesh3d": [
           {
            "colorbar": {
             "outlinewidth": 0,
             "ticks": ""
            },
            "type": "mesh3d"
           }
          ],
          "parcoords": [
           {
            "line": {
             "colorbar": {
              "outlinewidth": 0,
              "ticks": ""
             }
            },
            "type": "parcoords"
           }
          ],
          "pie": [
           {
            "automargin": true,
            "type": "pie"
           }
          ],
          "scatter": [
           {
            "marker": {
             "colorbar": {
              "outlinewidth": 0,
              "ticks": ""
             }
            },
            "type": "scatter"
           }
          ],
          "scatter3d": [
           {
            "line": {
             "colorbar": {
              "outlinewidth": 0,
              "ticks": ""
             }
            },
            "marker": {
             "colorbar": {
              "outlinewidth": 0,
              "ticks": ""
             }
            },
            "type": "scatter3d"
           }
          ],
          "scattercarpet": [
           {
            "marker": {
             "colorbar": {
              "outlinewidth": 0,
              "ticks": ""
             }
            },
            "type": "scattercarpet"
           }
          ],
          "scattergeo": [
           {
            "marker": {
             "colorbar": {
              "outlinewidth": 0,
              "ticks": ""
             }
            },
            "type": "scattergeo"
           }
          ],
          "scattergl": [
           {
            "marker": {
             "colorbar": {
              "outlinewidth": 0,
              "ticks": ""
             }
            },
            "type": "scattergl"
           }
          ],
          "scattermapbox": [
           {
            "marker": {
             "colorbar": {
              "outlinewidth": 0,
              "ticks": ""
             }
            },
            "type": "scattermapbox"
           }
          ],
          "scatterpolar": [
           {
            "marker": {
             "colorbar": {
              "outlinewidth": 0,
              "ticks": ""
             }
            },
            "type": "scatterpolar"
           }
          ],
          "scatterpolargl": [
           {
            "marker": {
             "colorbar": {
              "outlinewidth": 0,
              "ticks": ""
             }
            },
            "type": "scatterpolargl"
           }
          ],
          "scatterternary": [
           {
            "marker": {
             "colorbar": {
              "outlinewidth": 0,
              "ticks": ""
             }
            },
            "type": "scatterternary"
           }
          ],
          "surface": [
           {
            "colorbar": {
             "outlinewidth": 0,
             "ticks": ""
            },
            "colorscale": [
             [
              0,
              "#0d0887"
             ],
             [
              0.1111111111111111,
              "#46039f"
             ],
             [
              0.2222222222222222,
              "#7201a8"
             ],
             [
              0.3333333333333333,
              "#9c179e"
             ],
             [
              0.4444444444444444,
              "#bd3786"
             ],
             [
              0.5555555555555556,
              "#d8576b"
             ],
             [
              0.6666666666666666,
              "#ed7953"
             ],
             [
              0.7777777777777778,
              "#fb9f3a"
             ],
             [
              0.8888888888888888,
              "#fdca26"
             ],
             [
              1,
              "#f0f921"
             ]
            ],
            "type": "surface"
           }
          ],
          "table": [
           {
            "cells": {
             "fill": {
              "color": "#EBF0F8"
             },
             "line": {
              "color": "white"
             }
            },
            "header": {
             "fill": {
              "color": "#C8D4E3"
             },
             "line": {
              "color": "white"
             }
            },
            "type": "table"
           }
          ]
         },
         "layout": {
          "annotationdefaults": {
           "arrowcolor": "#2a3f5f",
           "arrowhead": 0,
           "arrowwidth": 1
          },
          "coloraxis": {
           "colorbar": {
            "outlinewidth": 0,
            "ticks": ""
           }
          },
          "colorscale": {
           "diverging": [
            [
             0,
             "#8e0152"
            ],
            [
             0.1,
             "#c51b7d"
            ],
            [
             0.2,
             "#de77ae"
            ],
            [
             0.3,
             "#f1b6da"
            ],
            [
             0.4,
             "#fde0ef"
            ],
            [
             0.5,
             "#f7f7f7"
            ],
            [
             0.6,
             "#e6f5d0"
            ],
            [
             0.7,
             "#b8e186"
            ],
            [
             0.8,
             "#7fbc41"
            ],
            [
             0.9,
             "#4d9221"
            ],
            [
             1,
             "#276419"
            ]
           ],
           "sequential": [
            [
             0,
             "#0d0887"
            ],
            [
             0.1111111111111111,
             "#46039f"
            ],
            [
             0.2222222222222222,
             "#7201a8"
            ],
            [
             0.3333333333333333,
             "#9c179e"
            ],
            [
             0.4444444444444444,
             "#bd3786"
            ],
            [
             0.5555555555555556,
             "#d8576b"
            ],
            [
             0.6666666666666666,
             "#ed7953"
            ],
            [
             0.7777777777777778,
             "#fb9f3a"
            ],
            [
             0.8888888888888888,
             "#fdca26"
            ],
            [
             1,
             "#f0f921"
            ]
           ],
           "sequentialminus": [
            [
             0,
             "#0d0887"
            ],
            [
             0.1111111111111111,
             "#46039f"
            ],
            [
             0.2222222222222222,
             "#7201a8"
            ],
            [
             0.3333333333333333,
             "#9c179e"
            ],
            [
             0.4444444444444444,
             "#bd3786"
            ],
            [
             0.5555555555555556,
             "#d8576b"
            ],
            [
             0.6666666666666666,
             "#ed7953"
            ],
            [
             0.7777777777777778,
             "#fb9f3a"
            ],
            [
             0.8888888888888888,
             "#fdca26"
            ],
            [
             1,
             "#f0f921"
            ]
           ]
          },
          "colorway": [
           "#636efa",
           "#EF553B",
           "#00cc96",
           "#ab63fa",
           "#FFA15A",
           "#19d3f3",
           "#FF6692",
           "#B6E880",
           "#FF97FF",
           "#FECB52"
          ],
          "font": {
           "color": "#2a3f5f"
          },
          "geo": {
           "bgcolor": "white",
           "lakecolor": "white",
           "landcolor": "#E5ECF6",
           "showlakes": true,
           "showland": true,
           "subunitcolor": "white"
          },
          "hoverlabel": {
           "align": "left"
          },
          "hovermode": "closest",
          "mapbox": {
           "style": "light"
          },
          "paper_bgcolor": "white",
          "plot_bgcolor": "#E5ECF6",
          "polar": {
           "angularaxis": {
            "gridcolor": "white",
            "linecolor": "white",
            "ticks": ""
           },
           "bgcolor": "#E5ECF6",
           "radialaxis": {
            "gridcolor": "white",
            "linecolor": "white",
            "ticks": ""
           }
          },
          "scene": {
           "xaxis": {
            "backgroundcolor": "#E5ECF6",
            "gridcolor": "white",
            "gridwidth": 2,
            "linecolor": "white",
            "showbackground": true,
            "ticks": "",
            "zerolinecolor": "white"
           },
           "yaxis": {
            "backgroundcolor": "#E5ECF6",
            "gridcolor": "white",
            "gridwidth": 2,
            "linecolor": "white",
            "showbackground": true,
            "ticks": "",
            "zerolinecolor": "white"
           },
           "zaxis": {
            "backgroundcolor": "#E5ECF6",
            "gridcolor": "white",
            "gridwidth": 2,
            "linecolor": "white",
            "showbackground": true,
            "ticks": "",
            "zerolinecolor": "white"
           }
          },
          "shapedefaults": {
           "line": {
            "color": "#2a3f5f"
           }
          },
          "ternary": {
           "aaxis": {
            "gridcolor": "white",
            "linecolor": "white",
            "ticks": ""
           },
           "baxis": {
            "gridcolor": "white",
            "linecolor": "white",
            "ticks": ""
           },
           "bgcolor": "#E5ECF6",
           "caxis": {
            "gridcolor": "white",
            "linecolor": "white",
            "ticks": ""
           }
          },
          "title": {
           "x": 0.05
          },
          "xaxis": {
           "automargin": true,
           "gridcolor": "white",
           "linecolor": "white",
           "ticks": "",
           "title": {
            "standoff": 15
           },
           "zerolinecolor": "white",
           "zerolinewidth": 2
          },
          "yaxis": {
           "automargin": true,
           "gridcolor": "white",
           "linecolor": "white",
           "ticks": "",
           "title": {
            "standoff": 15
           },
           "zerolinecolor": "white",
           "zerolinewidth": 2
          }
         }
        },
        "title": {
         "text": "Barchart with frequencies"
        },
        "xaxis": {
         "tickangle": 45,
         "title": {
          "text": "Classes"
         }
        }
       }
      },
      "text/html": "<div>                            <div id=\"6e8ea055-e264-416e-9048-f667dcb582cd\" class=\"plotly-graph-div\" style=\"height:525px; width:100%;\"></div>            <script type=\"text/javascript\">                require([\"plotly\"], function(Plotly) {                    window.PLOTLYENV=window.PLOTLYENV || {};                                    if (document.getElementById(\"6e8ea055-e264-416e-9048-f667dcb582cd\")) {                    Plotly.newPlot(                        \"6e8ea055-e264-416e-9048-f667dcb582cd\",                        [{\"type\": \"bar\", \"x\": [\"INTP\", \"INTJ\", \"ENTP\", \"INFJ\", \"INFP\", \"ENFP\", \"ISTP\", \"ESTP\", \"ENTJ\", \"ENFJ\", \"ISTJ\", \"ISFP\", \"ISFJ\", \"ESFP\", \"ESTJ\", \"ESFJ\"], \"y\": [470243, 364136, 221047, 204977, 179264, 97991, 63828, 53137, 50988, 21251, 18260, 11429, 7804, 7729, 7232, 2740]}],                        {\"template\": {\"data\": {\"bar\": [{\"error_x\": {\"color\": \"#2a3f5f\"}, \"error_y\": {\"color\": \"#2a3f5f\"}, \"marker\": {\"line\": {\"color\": \"#E5ECF6\", \"width\": 0.5}}, \"type\": \"bar\"}], \"barpolar\": [{\"marker\": {\"line\": {\"color\": \"#E5ECF6\", \"width\": 0.5}}, \"type\": \"barpolar\"}], \"carpet\": [{\"aaxis\": {\"endlinecolor\": \"#2a3f5f\", \"gridcolor\": \"white\", \"linecolor\": \"white\", \"minorgridcolor\": \"white\", \"startlinecolor\": \"#2a3f5f\"}, \"baxis\": {\"endlinecolor\": \"#2a3f5f\", \"gridcolor\": \"white\", \"linecolor\": \"white\", \"minorgridcolor\": \"white\", \"startlinecolor\": \"#2a3f5f\"}, \"type\": \"carpet\"}], \"choropleth\": [{\"colorbar\": {\"outlinewidth\": 0, \"ticks\": \"\"}, \"type\": \"choropleth\"}], \"contour\": [{\"colorbar\": {\"outlinewidth\": 0, \"ticks\": \"\"}, \"colorscale\": [[0.0, \"#0d0887\"], [0.1111111111111111, \"#46039f\"], [0.2222222222222222, \"#7201a8\"], [0.3333333333333333, \"#9c179e\"], [0.4444444444444444, \"#bd3786\"], [0.5555555555555556, \"#d8576b\"], [0.6666666666666666, \"#ed7953\"], [0.7777777777777778, \"#fb9f3a\"], [0.8888888888888888, \"#fdca26\"], [1.0, \"#f0f921\"]], \"type\": \"contour\"}], \"contourcarpet\": [{\"colorbar\": {\"outlinewidth\": 0, \"ticks\": \"\"}, \"type\": \"contourcarpet\"}], \"heatmap\": [{\"colorbar\": {\"outlinewidth\": 0, \"ticks\": \"\"}, \"colorscale\": [[0.0, \"#0d0887\"], [0.1111111111111111, \"#46039f\"], [0.2222222222222222, \"#7201a8\"], [0.3333333333333333, \"#9c179e\"], [0.4444444444444444, \"#bd3786\"], [0.5555555555555556, \"#d8576b\"], [0.6666666666666666, \"#ed7953\"], [0.7777777777777778, \"#fb9f3a\"], [0.8888888888888888, \"#fdca26\"], [1.0, \"#f0f921\"]], \"type\": \"heatmap\"}], \"heatmapgl\": [{\"colorbar\": {\"outlinewidth\": 0, \"ticks\": \"\"}, \"colorscale\": [[0.0, \"#0d0887\"], [0.1111111111111111, \"#46039f\"], [0.2222222222222222, \"#7201a8\"], [0.3333333333333333, \"#9c179e\"], [0.4444444444444444, \"#bd3786\"], [0.5555555555555556, \"#d8576b\"], [0.6666666666666666, \"#ed7953\"], [0.7777777777777778, \"#fb9f3a\"], [0.8888888888888888, \"#fdca26\"], [1.0, \"#f0f921\"]], \"type\": \"heatmapgl\"}], \"histogram\": [{\"marker\": {\"colorbar\": {\"outlinewidth\": 0, \"ticks\": \"\"}}, \"type\": \"histogram\"}], \"histogram2d\": [{\"colorbar\": {\"outlinewidth\": 0, \"ticks\": \"\"}, \"colorscale\": [[0.0, \"#0d0887\"], [0.1111111111111111, \"#46039f\"], [0.2222222222222222, \"#7201a8\"], [0.3333333333333333, \"#9c179e\"], [0.4444444444444444, \"#bd3786\"], [0.5555555555555556, \"#d8576b\"], [0.6666666666666666, \"#ed7953\"], [0.7777777777777778, \"#fb9f3a\"], [0.8888888888888888, \"#fdca26\"], [1.0, \"#f0f921\"]], \"type\": \"histogram2d\"}], \"histogram2dcontour\": [{\"colorbar\": {\"outlinewidth\": 0, \"ticks\": \"\"}, \"colorscale\": [[0.0, \"#0d0887\"], [0.1111111111111111, \"#46039f\"], [0.2222222222222222, \"#7201a8\"], [0.3333333333333333, \"#9c179e\"], [0.4444444444444444, \"#bd3786\"], [0.5555555555555556, \"#d8576b\"], [0.6666666666666666, \"#ed7953\"], [0.7777777777777778, \"#fb9f3a\"], [0.8888888888888888, \"#fdca26\"], [1.0, \"#f0f921\"]], \"type\": \"histogram2dcontour\"}], \"mesh3d\": [{\"colorbar\": {\"outlinewidth\": 0, \"ticks\": \"\"}, \"type\": \"mesh3d\"}], \"parcoords\": [{\"line\": {\"colorbar\": {\"outlinewidth\": 0, \"ticks\": \"\"}}, \"type\": \"parcoords\"}], \"pie\": [{\"automargin\": true, \"type\": \"pie\"}], \"scatter\": [{\"marker\": {\"colorbar\": {\"outlinewidth\": 0, \"ticks\": \"\"}}, \"type\": \"scatter\"}], \"scatter3d\": [{\"line\": {\"colorbar\": {\"outlinewidth\": 0, \"ticks\": \"\"}}, \"marker\": {\"colorbar\": {\"outlinewidth\": 0, \"ticks\": \"\"}}, \"type\": \"scatter3d\"}], \"scattercarpet\": [{\"marker\": {\"colorbar\": {\"outlinewidth\": 0, \"ticks\": \"\"}}, \"type\": \"scattercarpet\"}], \"scattergeo\": [{\"marker\": {\"colorbar\": {\"outlinewidth\": 0, \"ticks\": \"\"}}, \"type\": \"scattergeo\"}], \"scattergl\": [{\"marker\": {\"colorbar\": {\"outlinewidth\": 0, \"ticks\": \"\"}}, \"type\": \"scattergl\"}], \"scattermapbox\": [{\"marker\": {\"colorbar\": {\"outlinewidth\": 0, \"ticks\": \"\"}}, \"type\": \"scattermapbox\"}], \"scatterpolar\": [{\"marker\": {\"colorbar\": {\"outlinewidth\": 0, \"ticks\": \"\"}}, \"type\": \"scatterpolar\"}], \"scatterpolargl\": [{\"marker\": {\"colorbar\": {\"outlinewidth\": 0, \"ticks\": \"\"}}, \"type\": \"scatterpolargl\"}], \"scatterternary\": [{\"marker\": {\"colorbar\": {\"outlinewidth\": 0, \"ticks\": \"\"}}, \"type\": \"scatterternary\"}], \"surface\": [{\"colorbar\": {\"outlinewidth\": 0, \"ticks\": \"\"}, \"colorscale\": [[0.0, \"#0d0887\"], [0.1111111111111111, \"#46039f\"], [0.2222222222222222, \"#7201a8\"], [0.3333333333333333, \"#9c179e\"], [0.4444444444444444, \"#bd3786\"], [0.5555555555555556, \"#d8576b\"], [0.6666666666666666, \"#ed7953\"], [0.7777777777777778, \"#fb9f3a\"], [0.8888888888888888, \"#fdca26\"], [1.0, \"#f0f921\"]], \"type\": \"surface\"}], \"table\": [{\"cells\": {\"fill\": {\"color\": \"#EBF0F8\"}, \"line\": {\"color\": \"white\"}}, \"header\": {\"fill\": {\"color\": \"#C8D4E3\"}, \"line\": {\"color\": \"white\"}}, \"type\": \"table\"}]}, \"layout\": {\"annotationdefaults\": {\"arrowcolor\": \"#2a3f5f\", \"arrowhead\": 0, \"arrowwidth\": 1}, \"coloraxis\": {\"colorbar\": {\"outlinewidth\": 0, \"ticks\": \"\"}}, \"colorscale\": {\"diverging\": [[0, \"#8e0152\"], [0.1, \"#c51b7d\"], [0.2, \"#de77ae\"], [0.3, \"#f1b6da\"], [0.4, \"#fde0ef\"], [0.5, \"#f7f7f7\"], [0.6, \"#e6f5d0\"], [0.7, \"#b8e186\"], [0.8, \"#7fbc41\"], [0.9, \"#4d9221\"], [1, \"#276419\"]], \"sequential\": [[0.0, \"#0d0887\"], [0.1111111111111111, \"#46039f\"], [0.2222222222222222, \"#7201a8\"], [0.3333333333333333, \"#9c179e\"], [0.4444444444444444, \"#bd3786\"], [0.5555555555555556, \"#d8576b\"], [0.6666666666666666, \"#ed7953\"], [0.7777777777777778, \"#fb9f3a\"], [0.8888888888888888, \"#fdca26\"], [1.0, \"#f0f921\"]], \"sequentialminus\": [[0.0, \"#0d0887\"], [0.1111111111111111, \"#46039f\"], [0.2222222222222222, \"#7201a8\"], [0.3333333333333333, \"#9c179e\"], [0.4444444444444444, \"#bd3786\"], [0.5555555555555556, \"#d8576b\"], [0.6666666666666666, \"#ed7953\"], [0.7777777777777778, \"#fb9f3a\"], [0.8888888888888888, \"#fdca26\"], [1.0, \"#f0f921\"]]}, \"colorway\": [\"#636efa\", \"#EF553B\", \"#00cc96\", \"#ab63fa\", \"#FFA15A\", \"#19d3f3\", \"#FF6692\", \"#B6E880\", \"#FF97FF\", \"#FECB52\"], \"font\": {\"color\": \"#2a3f5f\"}, \"geo\": {\"bgcolor\": \"white\", \"lakecolor\": \"white\", \"landcolor\": \"#E5ECF6\", \"showlakes\": true, \"showland\": true, \"subunitcolor\": \"white\"}, \"hoverlabel\": {\"align\": \"left\"}, \"hovermode\": \"closest\", \"mapbox\": {\"style\": \"light\"}, \"paper_bgcolor\": \"white\", \"plot_bgcolor\": \"#E5ECF6\", \"polar\": {\"angularaxis\": {\"gridcolor\": \"white\", \"linecolor\": \"white\", \"ticks\": \"\"}, \"bgcolor\": \"#E5ECF6\", \"radialaxis\": {\"gridcolor\": \"white\", \"linecolor\": \"white\", \"ticks\": \"\"}}, \"scene\": {\"xaxis\": {\"backgroundcolor\": \"#E5ECF6\", \"gridcolor\": \"white\", \"gridwidth\": 2, \"linecolor\": \"white\", \"showbackground\": true, \"ticks\": \"\", \"zerolinecolor\": \"white\"}, \"yaxis\": {\"backgroundcolor\": \"#E5ECF6\", \"gridcolor\": \"white\", \"gridwidth\": 2, \"linecolor\": \"white\", \"showbackground\": true, \"ticks\": \"\", \"zerolinecolor\": \"white\"}, \"zaxis\": {\"backgroundcolor\": \"#E5ECF6\", \"gridcolor\": \"white\", \"gridwidth\": 2, \"linecolor\": \"white\", \"showbackground\": true, \"ticks\": \"\", \"zerolinecolor\": \"white\"}}, \"shapedefaults\": {\"line\": {\"color\": \"#2a3f5f\"}}, \"ternary\": {\"aaxis\": {\"gridcolor\": \"white\", \"linecolor\": \"white\", \"ticks\": \"\"}, \"baxis\": {\"gridcolor\": \"white\", \"linecolor\": \"white\", \"ticks\": \"\"}, \"bgcolor\": \"#E5ECF6\", \"caxis\": {\"gridcolor\": \"white\", \"linecolor\": \"white\", \"ticks\": \"\"}}, \"title\": {\"x\": 0.05}, \"xaxis\": {\"automargin\": true, \"gridcolor\": \"white\", \"linecolor\": \"white\", \"ticks\": \"\", \"title\": {\"standoff\": 15}, \"zerolinecolor\": \"white\", \"zerolinewidth\": 2}, \"yaxis\": {\"automargin\": true, \"gridcolor\": \"white\", \"linecolor\": \"white\", \"ticks\": \"\", \"title\": {\"standoff\": 15}, \"zerolinecolor\": \"white\", \"zerolinewidth\": 2}}}, \"title\": {\"text\": \"Barchart with frequencies\"}, \"xaxis\": {\"tickangle\": 45, \"title\": {\"text\": \"Classes\"}}},                        {\"responsive\": true}                    ).then(function(){\n                            \nvar gd = document.getElementById('6e8ea055-e264-416e-9048-f667dcb582cd');\nvar x = new MutationObserver(function (mutations, observer) {{\n        var display = window.getComputedStyle(gd).display;\n        if (!display || display === 'none') {{\n            console.log([gd, 'removed!']);\n            Plotly.purge(gd);\n            observer.disconnect();\n        }}\n}});\n\n// Listen for the removal of the full notebook cells\nvar notebookContainer = gd.closest('#notebook-container');\nif (notebookContainer) {{\n    x.observe(notebookContainer, {childList: true});\n}}\n\n// Listen for the clearing of the current output cell\nvar outputEl = gd.closest('.output');\nif (outputEl) {{\n    x.observe(outputEl, {childList: true});\n}}\n\n                        })                };                });            </script>        </div>"
     },
     "metadata": {}
    }
   ]
  },
  {
   "source": [
    "## Remove data for class balancing"
   ],
   "cell_type": "markdown",
   "metadata": {}
  },
  {
   "cell_type": "code",
   "execution_count": 58,
   "metadata": {},
   "outputs": [
    {
     "output_type": "stream",
     "name": "stdout",
     "text": [
      "                                                    text class\n",
      "0      Knowing you're in INTJ is a tool for you to us...  INTJ\n",
      "1               You are truly an enlightened mastermind.  INTJ\n",
      "4      I don't know if I would count this as a pet pe...  INTJ\n",
      "6      I think that the military is a job people volu...  INTJ\n",
      "8      Based on two politicians who in my eyes, some ...  INTJ\n",
      "...                                                  ...   ...\n",
      "13489  Next time try putting your hand behind you, th...  INTJ\n",
      "13494  I know that thats a comparatively easy to inte...  INTJ\n",
      "13500  That's me. Complaining away. \\n\\nSorry, dude. ...  INTJ\n",
      "13503  At that stage I would just jump ship and let i...  INTJ\n",
      "13508  Definitely. And most of the time if I am inter...  INTJ\n",
      "\n",
      "[2740 rows x 2 columns]\n",
      "                                                    text class\n",
      "2      You should :) it will help if you have a down ...  INFJ\n",
      "7      Mostly I try not to get too caught up in anyth...  INFJ\n",
      "14     Wow, i might be using a few of these starting ...  INFJ\n",
      "16     Wow that actually makes a lot of sense. I neve...  INFJ\n",
      "31     If you're anything like me, keep it that way a...  INFJ\n",
      "...                                                  ...   ...\n",
      "23748                                 I agree with this.  INFJ\n",
      "23751  Definitely night terrors. I've done this with ...  INFJ\n",
      "23757  Moon's performance was unusually clutch, that ...  INFJ\n",
      "23758                          Lol cinematic equivalent   INFJ\n",
      "23764  What are \"Mother potential\" and \"Wife potential\"?  INFJ\n",
      "\n",
      "[2740 rows x 2 columns]\n",
      "                                                    text class\n",
      "3      I watch a bit of everything (including hentai)...  INTP\n",
      "5      Ah. \\nNot sure how Se works for other types, b...  INTP\n",
      "10              Silly white knight. Love is for people.   INTP\n",
      "19     No you aren't. INTP and INTJ are quite differe...  INTP\n",
      "24     You'd think, but wizards have to deal with mag...  INTP\n",
      "...                                                  ...   ...\n",
      "10622  Soccer is boring and stupid FOR YOU for fuck's...  INTP\n",
      "10623                   that 1D Fe is killing us inside   INTP\n",
      "10625  1. I didn't downvote you.\\n2. You're being an ...  INTP\n",
      "10627                              A TV show; Mr. Robot.  INTP\n",
      "10633  i wish i could say tennis (playing since im 6)...  INTP\n",
      "\n",
      "[2740 rows x 2 columns]\n",
      "                                                    text class\n",
      "11     They're much easier to understand if you consi...  ENTP\n",
      "23     Because you're human.\\n\\nI'm curious now thoug...  ENTP\n",
      "26      I do on occasion. That occasion is all the time.  ENTP\n",
      "38     Relationships *are* always going to take effor...  ENTP\n",
      "42     We prefer eccentric to insane. Now if you'll e...  ENTP\n",
      "...                                                  ...   ...\n",
      "21902  Because it's the Battlefront sub. As much as I...  ENTP\n",
      "21908             As a not-INFJ, I approve this message.  ENTP\n",
      "21918  Surely you have some respect for cognitive psy...  ENTP\n",
      "21919  I'll stir up some drama to make things interes...  ENTP\n",
      "21924  I think you should finish it for yourself, and...  ENTP\n",
      "\n",
      "[2740 rows x 2 columns]\n",
      "                                                    text class\n",
      "12                is this at Terminal 5 by any chance!?   ENFP\n",
      "15                            Affirmation, quality/touch  ENFP\n",
      "22                                  Just the first ones.  ENFP\n",
      "30     Wow.  Did you even research MBTI and cognitive...  ENFP\n",
      "39     I only do one thing. I do it pretty well. But ...  ENFP\n",
      "...                                                  ...   ...\n",
      "49556  No it wasn’t. The prompt was “describe your pa...  ENFP\n",
      "49582                          This is great! Thank you!  ENFP\n",
      "49592  A lot of people use classical music as relaxin...  ENFP\n",
      "49624  But you can't really go wrong with sunshine / ...  ENFP\n",
      "49630  I think it makes more sense to just determine ...  ENFP\n",
      "\n",
      "[2740 rows x 2 columns]\n",
      "                                                    text class\n",
      "13     Well consider this, Freud is considered the fa...  ENTJ\n",
      "190    First of all, don't bother with using MBTI exp...  ENTJ\n",
      "300               I'm with an INTJ. It works just fine.   ENTJ\n",
      "328    &gt; eddit is kind of an anti-social website t...  ENTJ\n",
      "370                                               Hodor!  ENTJ\n",
      "...                                                  ...   ...\n",
      "95221  So if life hadn't gotten in the way... you'd s...  ENTJ\n",
      "95279  A person playing the victim is a person who ca...  ENTJ\n",
      "95339  Sesekali boleh~ tapi jangan sering2, nanti ket...  ENTJ\n",
      "95384                     This is the truth to all life.  ENTJ\n",
      "95416  I really like the mechanic here - purple (all ...  ENTJ\n",
      "\n",
      "[2740 rows x 2 columns]\n",
      "                                                    text class\n",
      "17                                               Adding!  ISTP\n",
      "74     Google defines it as:\\n\\n&gt;adjective\\n\\n&gt;...  ISTP\n",
      "145    No. It's enough to know I'm right and it isn't...  ISTP\n",
      "150     The biggest Socialist parties here are Trots lol  ISTP\n",
      "159    Clothes I spend money on; nice running shoes, ...  ISTP\n",
      "...                                                  ...   ...\n",
      "76424  &gt;IQ correlates fairly well with both grades...  ISTP\n",
      "76430  Drones aren't really being used in this confli...  ISTP\n",
      "76443  Not in the slightest. I'll \"talk to myself\", b...  ISTP\n",
      "76502                                              Sure.  ISTP\n",
      "76531                                       Yes. I agree  ISTP\n",
      "\n",
      "[2740 rows x 2 columns]\n",
      "                                                    text class\n",
      "45     I think you can hear some slight Northern Germ...  ESTP\n",
      "104    But these are some insane projections. They ta...  ESTP\n",
      "137    Oh man, that is a turd sandwich. Is it a hormo...  ESTP\n",
      "180    I feel like I cheated getting the LA aurax arm...  ESTP\n",
      "194    Application:\\nIGN:Omar_Mata\\nMap Joined:16\\nPa...  ESTP\n",
      "...                                                  ...   ...\n",
      "92007  They have a better chance to do it than Duisbu...  ESTP\n",
      "92033   Really? And that works for you by relaxing you?   ESTP\n",
      "92066  Inb4 for the millionth time\\n\\n\\n\\nOh my god t...  ESTP\n",
      "92119  But wait...I thought they are paying for the d...  ESTP\n",
      "92122                 Eww. too much Ni is gross. stop it  ESTP\n",
      "\n",
      "[2740 rows x 2 columns]\n",
      "                                                     text class\n",
      "46      I wanted to create an ENTJ and ISFJ one for th...  ISTJ\n",
      "53      Please, let's not start this intuition-biased ...  ISTJ\n",
      "92      I'm pregnant AF, so basically just sitting on ...  ISTJ\n",
      "146                     How do you get that...initiative?  ISTJ\n",
      "197                                          I dig that.   ISTJ\n",
      "...                                                   ...   ...\n",
      "274532  I try to stay out of these situations but when...  ISTJ\n",
      "274599                          In a frictionless vacuum.  ISTJ\n",
      "274600  ISTJ &amp; Lawful Neutral. Chaotic Neutral and...  ISTJ\n",
      "274620  Being productive in my hobbies. No, honestly, ...  ISTJ\n",
      "274818                           Safecracker, currently.   ISTJ\n",
      "\n",
      "[2740 rows x 2 columns]\n",
      "                                                    text class\n",
      "52     &gt; I feel he must have really missed the imp...  INFP\n",
      "61     Its the best feeling when others notice how in...  INFP\n",
      "62     Honestly, I feel that gender is mostly a made-...  INFP\n",
      "69     I think we can definitely be talkative! A rece...  INFP\n",
      "81          for me it's mostly psychology and philosophy  INFP\n",
      "...                                                  ...   ...\n",
      "26073  I live alone now and let me tell you, there is...  INFP\n",
      "26083  Oh well... ^shoot\\n\\nI wish I had some sort of...  INFP\n",
      "26090  Fi dom here...have an ENTP upstairs neighbor w...  INFP\n",
      "26095  I'm subscribed to some of the Imaginary Networ...  INFP\n",
      "26104  The Avett brothers\\n \\nThe decemberists\\n\\nCit...  INFP\n",
      "\n",
      "[2740 rows x 2 columns]\n",
      "                                                     text class\n",
      "65      Shut the fuck up motherfucker!\\n\\nDon't call m...  ISFP\n",
      "336     I would agree with this. My biggest problem is...  ISFP\n",
      "650     I didn't know there was a correlation really. ...  ISFP\n",
      "759     Finally...someone else sharing my love for the...  ISFP\n",
      "992     &gt; Conventional success or trendiness don't ...  ISFP\n",
      "...                                                   ...   ...\n",
      "412602  Sadly, I think I've become one of these people...  ISFP\n",
      "412629                          This ISFP laughs at you.   ISFP\n",
      "412887                                     lmao same here  ISFP\n",
      "412907                                         2spooky4me  ISFP\n",
      "413060                                               Infp  ISFP\n",
      "\n",
      "[2740 rows x 2 columns]\n",
      "                                                     text class\n",
      "176     Me too. But yeah I quite like that idea. I act...  ENFJ\n",
      "198     It really depends on how mature she is. \\n\\n\\n...  ENFJ\n",
      "499     &gt;I'm just gonna regurgitate my brain meal b...  ENFJ\n",
      "525           I usually don't even know why I'm laughing.  ENFJ\n",
      "570     1. What would make you like or dislike the sib...  ENFJ\n",
      "...                                                   ...   ...\n",
      "232231                     this is easy. just invite her.  ENFJ\n",
      "232298                                    Every damn day.  ENFJ\n",
      "232336                I.... don't know what that means...  ENFJ\n",
      "232443  Exactly. I'm referring to criticizing someone ...  ENFJ\n",
      "232444  Interesting, I would say I have the same probl...  ENFJ\n",
      "\n",
      "[2740 rows x 2 columns]\n",
      "                                                     text class\n",
      "268     What an interesting question! Well, I dress in...  ESTJ\n",
      "397                                no no, thank you! haha  ESTJ\n",
      "551     The best revenge is a life well lived. People ...  ESTJ\n",
      "961     Hmm, tja okay, det kan ske at de fleste statsl...  ESTJ\n",
      "1156    Could also try a newspaper in Sweden ;-)!\\n\\nH...  ESTJ\n",
      "...                                                   ...   ...\n",
      "683005  http://www.amazon.co.uk/gp/browse.html/ref=pe_...  ESTJ\n",
      "683450       Doesn't everyone make stories in their head?  ESTJ\n",
      "683499  Yeah, my Fe is a shadow function. I’ve always ...  ESTJ\n",
      "683708  You're right I have no idea what you're talkin...  ESTJ\n",
      "684114              [...](http://i.imgur.com/nwFCGP2.gif)  ESTJ\n",
      "\n",
      "[2740 rows x 2 columns]\n",
      "                                                     text class\n",
      "272     I like spring, I feel more 'energetic' during ...  ISFJ\n",
      "713     Not the OP but I wanted to share my thoughts.\\...  ISFJ\n",
      "888     This doesn't sound real. This sounds retrofitt...  ISFJ\n",
      "1025    In my case this would be sitting in my living ...  ISFJ\n",
      "1408                                           yep, isfj   ISFJ\n",
      "...                                                   ...   ...\n",
      "635200  But I thought alphas by definition were guys w...  ISFJ\n",
      "635337  Aren't there only like 2 well-known ISFJ villa...  ISFJ\n",
      "635500  i can relate to the random categorization base...  ISFJ\n",
      "635871  Interestingly I actually mistyped as an ISTJ f...  ISFJ\n",
      "636173  Yeah, I journal and it definitely helps becaus...  ISFJ\n",
      "\n",
      "[2740 rows x 2 columns]\n",
      "                                                      text class\n",
      "441                                           too late? :(  ESFJ\n",
      "1171     Again ENFP! This makes me wonder whether I sim...  ESFJ\n",
      "1282     I want you to rethink this and tell us why thi...  ESFJ\n",
      "1920                                  Pleased to meet you!  ESFJ\n",
      "2923     Spot on about SFJs. I'm pretty good at reading...  ESFJ\n",
      "...                                                    ...   ...\n",
      "1778825  It's funny you brought up the example of long ...  ESFJ\n",
      "1780041  Where the hell did this come from Im not aware...  ESFJ\n",
      "1780121                           Fuck off and Get a life?  ESFJ\n",
      "1780502                           ... or a troll. Fuckwit.  ESFJ\n",
      "1782005  Your poor step-dad. Does he have a dry, or out...  ESFJ\n",
      "\n",
      "[2740 rows x 2 columns]\n",
      "                                                     text class\n",
      "539     As someone who grew up with an ISTP dad, yes, ...  ESFP\n",
      "850     http://www.youtube.com/watch?v=-MXOspWx7ic  \\n...  ESFP\n",
      "978     Dude that's a pretty good gig. I'm trying to g...  ESFP\n",
      "1020    Psh, yea right. Like I'd need cocaine to have ...  ESFP\n",
      "1193    This is a very good point. I think for some re...  ESFP\n",
      "...                                                   ...   ...\n",
      "616769   OP has a 60fps capture card, probably an elgato   ESFP\n",
      "617428  AH, thank you!!\\n\\nThe ESFP ego is a bit like ...  ESFP\n",
      "617517  I think this a bit misguided. Anyone who lives...  ESFP\n",
      "617764  Couldn't you say that about any type for any g...  ESFP\n",
      "617778                         Well that's enlightening.   ESFP\n",
      "\n",
      "[2740 rows x 2 columns]\n"
     ]
    }
   ],
   "source": [
    "# there are many samples, so all classes can have the frequency of the class with the lowest frequency\n",
    "min_class_freq = min(freqs)\n",
    "\n",
    "for v in data['class'].unique():\n",
    "    print(data[data['class'] == v].iloc[0:min_class_freq, :]) # join the dataframes of the unique classes"
   ]
  },
  {
   "cell_type": "code",
   "execution_count": null,
   "metadata": {},
   "outputs": [],
   "source": []
  }
 ],
 "metadata": {
  "kernelspec": {
   "display_name": "Python 3.8.6 64-bit ('jupyterML': venv)",
   "language": "python",
   "name": "python38664bitjupytermlvenvbc6cdc5f79f94fa6988a3337a5aa9a56"
  },
  "language_info": {
   "codemirror_mode": {
    "name": "ipython",
    "version": 3
   },
   "file_extension": ".py",
   "mimetype": "text/x-python",
   "name": "python",
   "nbconvert_exporter": "python",
   "pygments_lexer": "ipython3",
   "version": "3.8.7-final"
  }
 },
 "nbformat": 4,
 "nbformat_minor": 4
}
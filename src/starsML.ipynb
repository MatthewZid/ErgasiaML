{
 "cells": [
  {
   "cell_type": "code",
   "execution_count": 27,
   "metadata": {
    "scrolled": false,
    "tags": []
   },
   "outputs": [],
   "source": [
    "import csv\n",
    "import numpy as np\n",
    "import plotly.graph_objects as go\n",
    "\n",
    "def separate_classes(csv_obj):\n",
    "    \"\"\"Separate features for each class in a dictionary, i.e star type\"\"\"\n",
    "    classes = {}    #classes contain every feature for each star type\n",
    "\n",
    "    for i in range(6):\n",
    "        classes[\"\".join(str(i))] = []\n",
    "    \n",
    "    for row in csv_obj:\n",
    "        featlist = {}\n",
    "        for feature in row:\n",
    "            if feature != \"Star type\":\n",
    "                featlist[feature] = row[feature]\n",
    "        classes[row['Star type']].append(featlist)\n",
    "    \n",
    "    return classes\n",
    "\n",
    "with open(\"../6_class_csv.csv\",\"r\") as csvf:\n",
    "    csvreader = csv.DictReader(csvf)    #read csv as a dictionary\n",
    "    \n",
    "    classes = separate_classes(csvreader)"
   ]
  },
  {
   "cell_type": "code",
   "execution_count": null,
   "metadata": {},
   "outputs": [],
   "source": []
  }
 ],
 "metadata": {
  "kernelspec": {
   "display_name": "Python 3.8.6 64-bit ('jupyterML': venv)",
   "language": "python",
   "name": "python38664bitjupytermlvenvbc6cdc5f79f94fa6988a3337a5aa9a56"
  },
  "language_info": {
   "codemirror_mode": {
    "name": "ipython",
    "version": 3
   },
   "file_extension": ".py",
   "mimetype": "text/x-python",
   "name": "python",
   "nbconvert_exporter": "python",
   "pygments_lexer": "ipython3",
   "version": "3.8.6-final"
  }
 },
 "nbformat": 4,
 "nbformat_minor": 4
}
{
 "cells": [
  {
   "cell_type": "code",
   "execution_count": 2,
   "metadata": {
    "scrolled": false,
    "tags": []
   },
   "outputs": [
    {
     "output_type": "stream",
     "name": "stdout",
     "text": [
      "{'0': 40, '1': 40, '2': 40, '3': 40, '4': 40, '5': 40}\n"
     ]
    }
   ],
   "source": [
    "import csv\n",
    "import numpy as np\n",
    "import plotly.graph_objects as go\n",
    "\n",
    "def separate_classes(csv_obj,classno):\n",
    "    \"\"\"Separate features for each class in a dictionary, i.e star type\"\"\"\n",
    "    classes = {}    #classes contain every feature for each star type\n",
    "\n",
    "    for i in range(classno):\n",
    "        classes[\"\".join(str(i))] = []\n",
    "    \n",
    "    for row in csv_obj:\n",
    "        featdict = {}\n",
    "        for feature in row:\n",
    "            if feature != \"Star type\":\n",
    "                featdict[feature] = row[feature]\n",
    "        classes[row['Star type']].append(featdict)\n",
    "    \n",
    "    return classes\n",
    "\n",
    "def frequencies(clss):\n",
    "    \"\"\"Find frequencies of feature vectors for each class\"\"\"\n",
    "    freqs = {}\n",
    "    for c in classes:\n",
    "       freqs[c] = len(classes[c])\n",
    "    \n",
    "    return freqs\n",
    "\n",
    "with open(\"../6_class_csv.csv\",\"r\") as csvf:\n",
    "    csvreader = csv.DictReader(csvf)    #read csv as a dictionary\n",
    "    \n",
    "    classes = separate_classes(csvreader,6)\n",
    "    freqs = frequencies(classes)\n",
    "    \n",
    "    \"\"\"Perform GDA\"\"\"\n",
    "    "
   ]
  },
  {
   "cell_type": "code",
   "execution_count": null,
   "metadata": {},
   "outputs": [],
   "source": []
  }
 ],
 "metadata": {
  "kernelspec": {
   "display_name": "Python 3.8.6 64-bit ('jupyterML': venv)",
   "language": "python",
   "name": "python38664bitjupytermlvenvbc6cdc5f79f94fa6988a3337a5aa9a56"
  },
  "language_info": {
   "codemirror_mode": {
    "name": "ipython",
    "version": 3
   },
   "file_extension": ".py",
   "mimetype": "text/x-python",
   "name": "python",
   "nbconvert_exporter": "python",
   "pygments_lexer": "ipython3",
   "version": "3.8.6-final"
  }
 },
 "nbformat": 4,
 "nbformat_minor": 4
}